@dlt.create_view(comment="Livestream of new transactions")
def new_txs():
  txs = dlt.read_stream("raw_txs").alias("txs")
  ref = dlt.read("ref_accounting_treatment").alias("ref")
  return (
    txs.join(ref, F.col("txs.accounting_treatment_id") == F.col("ref.id"), "inner")
      .selectExpr("txs.*", "ref.accounting_treatment as accounting_treatment"))
      
#Keep only the proper transactions. Fail if cost center isn't correct, discard the others.
@dlt.create_table(comment="Livestream of new transactions, cleaned and compliant")
@dlt.expect("Payments should be this year", "(next_payment_date > date('2020-12-31'))")
@dlt.expect_or_drop("Balance should be positive", "(balance > 0 AND arrears_balance > 0)")
@dlt.expect_or_fail("Cost center must be specified", "(cost_center_code IS NOT NULL)")
def cleaned_new_txs():
  return dlt.read_stream("new_txs")

#Let's quarantine the bad transaction for further analysis
#This is the inverse condition of the above statement to quarantine incorrect data for further analysis.
@dlt.create_table(comment="Incorrect transactions requiring human analysis")
@dlt.expect("Payments should be this year", "(next_payment_date <= date('2020-12-31'))")
@dlt.expect_or_drop("Balance should be positive", "(balance <= 0 OR arrears_balance <= 0)")
def quarantine_bad_txs():
  return dlt.read_stream("new_txs")
